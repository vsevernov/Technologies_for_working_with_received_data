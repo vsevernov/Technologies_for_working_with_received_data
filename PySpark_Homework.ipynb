{
 "cells": [
  {
   "cell_type": "markdown",
   "id": "afe2efdd",
   "metadata": {},
   "source": [
    "# PySpark практическая работа"
   ]
  },
  {
   "cell_type": "markdown",
   "id": "f611b625",
   "metadata": {},
   "source": [
    "## Датасет: Netflix Movies and TV Shows\n",
    "\n",
    "Датасет содержит информацию о фильмах и телешоу на платформе Netflix. Основные столбцы:\n",
    "- `show_id` — уникальный идентификатор шоу.\n",
    "- `type` — тип контента (фильм или сериал).\n",
    "- `title` — название.\n",
    "- `director` — режиссер.\n",
    "- `cast` — актерский состав.\n",
    "- `country` — страна производства.\n",
    "- `date_added` — дата добавления.\n",
    "- `release_year` — год выпуска.\n",
    "- `rating` — возрастной рейтинг.\n",
    "- `duration` — продолжительность.\n",
    "- `listed_in` — категории/жанры.\n",
    "- `description` — описание.\n",
    "\n",
    "Каждое задание оценивается в 10 баллов, дз необходимо будет защитить.\n",
    "Загрузите данные из файла `netflix_titles.csv` и `world_population_data.csv`."
   ]
  },
  {
   "cell_type": "markdown",
   "id": "c60513b1",
   "metadata": {},
   "source": [
    "### Задача 1: Загрузка данных и первичный анализ"
   ]
  },
  {
   "cell_type": "markdown",
   "id": "076c627f",
   "metadata": {},
   "source": [
    "Загрузите данные и выведите их структуру и первые строки."
   ]
  },
  {
   "cell_type": "code",
   "execution_count": null,
   "id": "5b7c89e3",
   "metadata": {},
   "outputs": [],
   "source": [
    "# Ваш код здесь"
   ]
  },
  {
   "cell_type": "markdown",
   "id": "5bb8b09b",
   "metadata": {},
   "source": [
    "### Задача 2: Фильтрация по типу контента"
   ]
  },
  {
   "cell_type": "markdown",
   "id": "09b3efd5",
   "metadata": {},
   "source": [
    "Отфильтруйте записи так, чтобы остались только фильмы или только телешоу."
   ]
  },
  {
   "cell_type": "code",
   "execution_count": null,
   "id": "5493b7f4",
   "metadata": {},
   "outputs": [],
   "source": [
    "# Ваш код здесь"
   ]
  },
  {
   "cell_type": "markdown",
   "id": "dcfd6c9d",
   "metadata": {},
   "source": [
    "### Задача 3: Группировка по странам"
   ]
  },
  {
   "cell_type": "markdown",
   "id": "611b05fd",
   "metadata": {},
   "source": [
    "Посчитайте количество фильмов и сериалов, произведенных в каждой стране."
   ]
  },
  {
   "cell_type": "code",
   "execution_count": null,
   "id": "35dac842",
   "metadata": {},
   "outputs": [],
   "source": [
    "# Ваш код здесь"
   ]
  },
  {
   "cell_type": "markdown",
   "id": "2acf47d3",
   "metadata": {},
   "source": [
    "### Задача 4: Операции `join`"
   ]
  },
  {
   "cell_type": "markdown",
   "id": "e515acca",
   "metadata": {},
   "source": [
    "Используя дополнительный датасет с населением стран, выполните `join` и добавьте информацию о населении."
   ]
  },
  {
   "cell_type": "code",
   "execution_count": null,
   "id": "8df0b760",
   "metadata": {},
   "outputs": [],
   "source": [
    "# Ваш код здесь"
   ]
  },
  {
   "cell_type": "markdown",
   "id": "af314df8",
   "metadata": {},
   "source": [
    "### Задача 5: Оконные функции"
   ]
  },
  {
   "cell_type": "markdown",
   "id": "b1ebfd59",
   "metadata": {},
   "source": [
    "Для каждого жанра найдите фильм или шоу с самым поздним годом выпуска."
   ]
  },
  {
   "cell_type": "code",
   "execution_count": null,
   "id": "0454704c",
   "metadata": {},
   "outputs": [],
   "source": [
    "# Ваш код здесь"
   ]
  },
  {
   "cell_type": "markdown",
   "id": "6edae007",
   "metadata": {},
   "source": [
    "### Задача 6: Создание UDF"
   ]
  },
  {
   "cell_type": "markdown",
   "id": "efa904aa",
   "metadata": {},
   "source": [
    "Создайте UDF для определения, является ли контент современным (выпущен после 2015 года)."
   ]
  },
  {
   "cell_type": "code",
   "execution_count": null,
   "id": "f75e9e02",
   "metadata": {},
   "outputs": [],
   "source": [
    "# Ваш код здесь"
   ]
  },
  {
   "cell_type": "markdown",
   "id": "91eee7b2",
   "metadata": {},
   "source": [
    "### Задача 7: Использование pandas UDF"
   ]
  },
  {
   "cell_type": "markdown",
   "id": "947ddfb4",
   "metadata": {},
   "source": [
    "Обучите модель классификации для предсказания типа контента (фильм или сериал) и используйте pandas UDF для инференса."
   ]
  },
  {
   "cell_type": "code",
   "execution_count": null,
   "id": "7fd8c56c",
   "metadata": {},
   "outputs": [],
   "source": [
    "# Ваш код здесь"
   ]
  },
  {
   "cell_type": "markdown",
   "id": "212d90d0",
   "metadata": {},
   "source": [
    "### Задача 8: Дополнительная группировка"
   ]
  },
  {
   "cell_type": "markdown",
   "id": "e12352f3",
   "metadata": {},
   "source": [
    "Вычислите среднее количество контента для каждого возрастного рейтинга."
   ]
  },
  {
   "cell_type": "code",
   "execution_count": null,
   "id": "b0d42f2e",
   "metadata": {},
   "outputs": [],
   "source": [
    "# Ваш код здесь"
   ]
  },
  {
   "cell_type": "markdown",
   "id": "46901392",
   "metadata": {},
   "source": [
    "### Задача 9: Анализ временной динамики"
   ]
  },
  {
   "cell_type": "markdown",
   "id": "5b2a528e",
   "metadata": {},
   "source": [
    "Исследуйте, как изменялось количество добавленного контента на платформу по годам."
   ]
  },
  {
   "cell_type": "code",
   "execution_count": null,
   "id": "e2a7b4bf",
   "metadata": {},
   "outputs": [],
   "source": [
    "# Ваш код здесь"
   ]
  },
  {
   "cell_type": "markdown",
   "id": "68676811",
   "metadata": {},
   "source": [
    "### Задача 10: Визуализация результатов"
   ]
  },
  {
   "cell_type": "markdown",
   "id": "621d2455",
   "metadata": {},
   "source": [
    "Создайте график, показывающий распределение фильмов и сериалов по годам выпуска."
   ]
  },
  {
   "cell_type": "code",
   "execution_count": null,
   "id": "9765f1ec",
   "metadata": {},
   "outputs": [],
   "source": [
    "# Ваш код здесь"
   ]
  }
 ],
 "metadata": {
  "kernelspec": {
   "display_name": "base",
   "language": "python",
   "name": "python3"
  },
  "language_info": {
   "codemirror_mode": {
    "name": "ipython",
    "version": 3
   },
   "file_extension": ".py",
   "mimetype": "text/x-python",
   "name": "python",
   "nbconvert_exporter": "python",
   "pygments_lexer": "ipython3",
   "version": "3.10.9"
  }
 },
 "nbformat": 4,
 "nbformat_minor": 5
}
