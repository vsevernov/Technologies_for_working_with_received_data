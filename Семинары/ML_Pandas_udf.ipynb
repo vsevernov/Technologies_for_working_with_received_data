{
  "nbformat": 4,
  "nbformat_minor": 0,
  "metadata": {
    "colab": {
      "provenance": []
    },
    "kernelspec": {
      "name": "python3",
      "display_name": "Python 3"
    },
    "language_info": {
      "name": "python"
    }
  },
  "cells": [
    {
      "cell_type": "code",
      "execution_count": 1,
      "metadata": {
        "colab": {
          "base_uri": "https://localhost:8080/"
        },
        "id": "N2xxQUG15dlo",
        "outputId": "bd2f577c-6164-4776-c236-546f03625aae"
      },
      "outputs": [
        {
          "output_type": "stream",
          "name": "stdout",
          "text": [
            "Let's Go\n"
          ]
        }
      ],
      "source": [
        "print(\"Let's Go\")"
      ]
    },
    {
      "cell_type": "markdown",
      "source": [
        "### Imports"
      ],
      "metadata": {
        "id": "Z6ivw6-M56sQ"
      }
    },
    {
      "cell_type": "code",
      "source": [
        "import pandas as pd\n",
        "import numpy as np\n",
        "import pyarrow as pa\n",
        "from pyspark.sql import SparkSession\n",
        "from pyspark.sql.functions import pandas_udf, col, PandasUDFType, lit\n",
        "from sklearn.ensemble import RandomForestClassifier\n",
        "from pyspark.sql.types import StructType, StructField, FloatType, IntegerType\n",
        "from sklearn.metrics import accuracy_score\n",
        "import joblib"
      ],
      "metadata": {
        "id": "Abduvyb354qj"
      },
      "execution_count": 45,
      "outputs": []
    },
    {
      "cell_type": "code",
      "source": [
        "spark = SparkSession.builder.appName(\"ML model\").getOrCreate()"
      ],
      "metadata": {
        "id": "Xf8Nz8o8663j"
      },
      "execution_count": 46,
      "outputs": []
    },
    {
      "cell_type": "markdown",
      "source": [
        "### Подготовка данных"
      ],
      "metadata": {
        "id": "MF4iNkab51KW"
      }
    },
    {
      "cell_type": "code",
      "source": [
        "data = pd.DataFrame({\n",
        "    'feature1': np.random.randn(1000),\n",
        "    'feature2': np.random.randn(1000),\n",
        "    'feature3': np.random.randn(1000),\n",
        "    'noise': np.random.choice([np.nan, 0, 1], 1000, p=[0.2, 0.4, 0.4])  # Добавляем NaN и шум\n",
        "})"
      ],
      "metadata": {
        "id": "vKgtr2zg52Pr"
      },
      "execution_count": 47,
      "outputs": []
    },
    {
      "cell_type": "markdown",
      "source": [
        "### Предобработка данных\n",
        "Обработка пропущенных значений, масштабирование и уменьшение шума.\n"
      ],
      "metadata": {
        "id": "HXbneR1V6T2J"
      }
    },
    {
      "cell_type": "code",
      "source": [
        "# Функция предобработки данных\n",
        "def preprocess_data(df):\n",
        "    # Заполнение пропущенных значений\n",
        "    df['noise'] = df['noise'].fillna(df['noise'].median())\n",
        "    # Нормализация признаков (пример)\n",
        "    for col in ['feature1', 'feature2', 'feature3']:\n",
        "        df[col] = (df[col] - df[col].mean()) / df[col].std()\n",
        "    return df\n",
        "\n",
        "# Применяем предобработку\n",
        "data = preprocess_data(data)"
      ],
      "metadata": {
        "id": "vUna87GH6PwE"
      },
      "execution_count": 48,
      "outputs": []
    },
    {
      "cell_type": "code",
      "source": [
        "data.head()"
      ],
      "metadata": {
        "colab": {
          "base_uri": "https://localhost:8080/",
          "height": 206
        },
        "id": "LjCEA1BAHU2p",
        "outputId": "0b9f13f2-21cb-4219-d980-aa1593f7bbfd"
      },
      "execution_count": 49,
      "outputs": [
        {
          "output_type": "execute_result",
          "data": {
            "text/plain": [
              "   feature1  feature2  feature3  noise\n",
              "0 -1.313683  0.116888 -0.396188    1.0\n",
              "1 -0.601685 -1.049042 -1.774992    1.0\n",
              "2 -1.029277 -0.097142 -2.075136    0.0\n",
              "3 -1.219959 -0.833503 -0.907069    1.0\n",
              "4  0.882943  0.801273  1.514790    0.0"
            ],
            "text/html": [
              "\n",
              "  <div id=\"df-af41099e-0920-4cc1-9000-47daf07aeb55\" class=\"colab-df-container\">\n",
              "    <div>\n",
              "<style scoped>\n",
              "    .dataframe tbody tr th:only-of-type {\n",
              "        vertical-align: middle;\n",
              "    }\n",
              "\n",
              "    .dataframe tbody tr th {\n",
              "        vertical-align: top;\n",
              "    }\n",
              "\n",
              "    .dataframe thead th {\n",
              "        text-align: right;\n",
              "    }\n",
              "</style>\n",
              "<table border=\"1\" class=\"dataframe\">\n",
              "  <thead>\n",
              "    <tr style=\"text-align: right;\">\n",
              "      <th></th>\n",
              "      <th>feature1</th>\n",
              "      <th>feature2</th>\n",
              "      <th>feature3</th>\n",
              "      <th>noise</th>\n",
              "    </tr>\n",
              "  </thead>\n",
              "  <tbody>\n",
              "    <tr>\n",
              "      <th>0</th>\n",
              "      <td>-1.313683</td>\n",
              "      <td>0.116888</td>\n",
              "      <td>-0.396188</td>\n",
              "      <td>1.0</td>\n",
              "    </tr>\n",
              "    <tr>\n",
              "      <th>1</th>\n",
              "      <td>-0.601685</td>\n",
              "      <td>-1.049042</td>\n",
              "      <td>-1.774992</td>\n",
              "      <td>1.0</td>\n",
              "    </tr>\n",
              "    <tr>\n",
              "      <th>2</th>\n",
              "      <td>-1.029277</td>\n",
              "      <td>-0.097142</td>\n",
              "      <td>-2.075136</td>\n",
              "      <td>0.0</td>\n",
              "    </tr>\n",
              "    <tr>\n",
              "      <th>3</th>\n",
              "      <td>-1.219959</td>\n",
              "      <td>-0.833503</td>\n",
              "      <td>-0.907069</td>\n",
              "      <td>1.0</td>\n",
              "    </tr>\n",
              "    <tr>\n",
              "      <th>4</th>\n",
              "      <td>0.882943</td>\n",
              "      <td>0.801273</td>\n",
              "      <td>1.514790</td>\n",
              "      <td>0.0</td>\n",
              "    </tr>\n",
              "  </tbody>\n",
              "</table>\n",
              "</div>\n",
              "    <div class=\"colab-df-buttons\">\n",
              "\n",
              "  <div class=\"colab-df-container\">\n",
              "    <button class=\"colab-df-convert\" onclick=\"convertToInteractive('df-af41099e-0920-4cc1-9000-47daf07aeb55')\"\n",
              "            title=\"Convert this dataframe to an interactive table.\"\n",
              "            style=\"display:none;\">\n",
              "\n",
              "  <svg xmlns=\"http://www.w3.org/2000/svg\" height=\"24px\" viewBox=\"0 -960 960 960\">\n",
              "    <path d=\"M120-120v-720h720v720H120Zm60-500h600v-160H180v160Zm220 220h160v-160H400v160Zm0 220h160v-160H400v160ZM180-400h160v-160H180v160Zm440 0h160v-160H620v160ZM180-180h160v-160H180v160Zm440 0h160v-160H620v160Z\"/>\n",
              "  </svg>\n",
              "    </button>\n",
              "\n",
              "  <style>\n",
              "    .colab-df-container {\n",
              "      display:flex;\n",
              "      gap: 12px;\n",
              "    }\n",
              "\n",
              "    .colab-df-convert {\n",
              "      background-color: #E8F0FE;\n",
              "      border: none;\n",
              "      border-radius: 50%;\n",
              "      cursor: pointer;\n",
              "      display: none;\n",
              "      fill: #1967D2;\n",
              "      height: 32px;\n",
              "      padding: 0 0 0 0;\n",
              "      width: 32px;\n",
              "    }\n",
              "\n",
              "    .colab-df-convert:hover {\n",
              "      background-color: #E2EBFA;\n",
              "      box-shadow: 0px 1px 2px rgba(60, 64, 67, 0.3), 0px 1px 3px 1px rgba(60, 64, 67, 0.15);\n",
              "      fill: #174EA6;\n",
              "    }\n",
              "\n",
              "    .colab-df-buttons div {\n",
              "      margin-bottom: 4px;\n",
              "    }\n",
              "\n",
              "    [theme=dark] .colab-df-convert {\n",
              "      background-color: #3B4455;\n",
              "      fill: #D2E3FC;\n",
              "    }\n",
              "\n",
              "    [theme=dark] .colab-df-convert:hover {\n",
              "      background-color: #434B5C;\n",
              "      box-shadow: 0px 1px 3px 1px rgba(0, 0, 0, 0.15);\n",
              "      filter: drop-shadow(0px 1px 2px rgba(0, 0, 0, 0.3));\n",
              "      fill: #FFFFFF;\n",
              "    }\n",
              "  </style>\n",
              "\n",
              "    <script>\n",
              "      const buttonEl =\n",
              "        document.querySelector('#df-af41099e-0920-4cc1-9000-47daf07aeb55 button.colab-df-convert');\n",
              "      buttonEl.style.display =\n",
              "        google.colab.kernel.accessAllowed ? 'block' : 'none';\n",
              "\n",
              "      async function convertToInteractive(key) {\n",
              "        const element = document.querySelector('#df-af41099e-0920-4cc1-9000-47daf07aeb55');\n",
              "        const dataTable =\n",
              "          await google.colab.kernel.invokeFunction('convertToInteractive',\n",
              "                                                    [key], {});\n",
              "        if (!dataTable) return;\n",
              "\n",
              "        const docLinkHtml = 'Like what you see? Visit the ' +\n",
              "          '<a target=\"_blank\" href=https://colab.research.google.com/notebooks/data_table.ipynb>data table notebook</a>'\n",
              "          + ' to learn more about interactive tables.';\n",
              "        element.innerHTML = '';\n",
              "        dataTable['output_type'] = 'display_data';\n",
              "        await google.colab.output.renderOutput(dataTable, element);\n",
              "        const docLink = document.createElement('div');\n",
              "        docLink.innerHTML = docLinkHtml;\n",
              "        element.appendChild(docLink);\n",
              "      }\n",
              "    </script>\n",
              "  </div>\n",
              "\n",
              "\n",
              "<div id=\"df-0fa4173d-2bc2-4079-ba04-9feb73209b05\">\n",
              "  <button class=\"colab-df-quickchart\" onclick=\"quickchart('df-0fa4173d-2bc2-4079-ba04-9feb73209b05')\"\n",
              "            title=\"Suggest charts\"\n",
              "            style=\"display:none;\">\n",
              "\n",
              "<svg xmlns=\"http://www.w3.org/2000/svg\" height=\"24px\"viewBox=\"0 0 24 24\"\n",
              "     width=\"24px\">\n",
              "    <g>\n",
              "        <path d=\"M19 3H5c-1.1 0-2 .9-2 2v14c0 1.1.9 2 2 2h14c1.1 0 2-.9 2-2V5c0-1.1-.9-2-2-2zM9 17H7v-7h2v7zm4 0h-2V7h2v10zm4 0h-2v-4h2v4z\"/>\n",
              "    </g>\n",
              "</svg>\n",
              "  </button>\n",
              "\n",
              "<style>\n",
              "  .colab-df-quickchart {\n",
              "      --bg-color: #E8F0FE;\n",
              "      --fill-color: #1967D2;\n",
              "      --hover-bg-color: #E2EBFA;\n",
              "      --hover-fill-color: #174EA6;\n",
              "      --disabled-fill-color: #AAA;\n",
              "      --disabled-bg-color: #DDD;\n",
              "  }\n",
              "\n",
              "  [theme=dark] .colab-df-quickchart {\n",
              "      --bg-color: #3B4455;\n",
              "      --fill-color: #D2E3FC;\n",
              "      --hover-bg-color: #434B5C;\n",
              "      --hover-fill-color: #FFFFFF;\n",
              "      --disabled-bg-color: #3B4455;\n",
              "      --disabled-fill-color: #666;\n",
              "  }\n",
              "\n",
              "  .colab-df-quickchart {\n",
              "    background-color: var(--bg-color);\n",
              "    border: none;\n",
              "    border-radius: 50%;\n",
              "    cursor: pointer;\n",
              "    display: none;\n",
              "    fill: var(--fill-color);\n",
              "    height: 32px;\n",
              "    padding: 0;\n",
              "    width: 32px;\n",
              "  }\n",
              "\n",
              "  .colab-df-quickchart:hover {\n",
              "    background-color: var(--hover-bg-color);\n",
              "    box-shadow: 0 1px 2px rgba(60, 64, 67, 0.3), 0 1px 3px 1px rgba(60, 64, 67, 0.15);\n",
              "    fill: var(--button-hover-fill-color);\n",
              "  }\n",
              "\n",
              "  .colab-df-quickchart-complete:disabled,\n",
              "  .colab-df-quickchart-complete:disabled:hover {\n",
              "    background-color: var(--disabled-bg-color);\n",
              "    fill: var(--disabled-fill-color);\n",
              "    box-shadow: none;\n",
              "  }\n",
              "\n",
              "  .colab-df-spinner {\n",
              "    border: 2px solid var(--fill-color);\n",
              "    border-color: transparent;\n",
              "    border-bottom-color: var(--fill-color);\n",
              "    animation:\n",
              "      spin 1s steps(1) infinite;\n",
              "  }\n",
              "\n",
              "  @keyframes spin {\n",
              "    0% {\n",
              "      border-color: transparent;\n",
              "      border-bottom-color: var(--fill-color);\n",
              "      border-left-color: var(--fill-color);\n",
              "    }\n",
              "    20% {\n",
              "      border-color: transparent;\n",
              "      border-left-color: var(--fill-color);\n",
              "      border-top-color: var(--fill-color);\n",
              "    }\n",
              "    30% {\n",
              "      border-color: transparent;\n",
              "      border-left-color: var(--fill-color);\n",
              "      border-top-color: var(--fill-color);\n",
              "      border-right-color: var(--fill-color);\n",
              "    }\n",
              "    40% {\n",
              "      border-color: transparent;\n",
              "      border-right-color: var(--fill-color);\n",
              "      border-top-color: var(--fill-color);\n",
              "    }\n",
              "    60% {\n",
              "      border-color: transparent;\n",
              "      border-right-color: var(--fill-color);\n",
              "    }\n",
              "    80% {\n",
              "      border-color: transparent;\n",
              "      border-right-color: var(--fill-color);\n",
              "      border-bottom-color: var(--fill-color);\n",
              "    }\n",
              "    90% {\n",
              "      border-color: transparent;\n",
              "      border-bottom-color: var(--fill-color);\n",
              "    }\n",
              "  }\n",
              "</style>\n",
              "\n",
              "  <script>\n",
              "    async function quickchart(key) {\n",
              "      const quickchartButtonEl =\n",
              "        document.querySelector('#' + key + ' button');\n",
              "      quickchartButtonEl.disabled = true;  // To prevent multiple clicks.\n",
              "      quickchartButtonEl.classList.add('colab-df-spinner');\n",
              "      try {\n",
              "        const charts = await google.colab.kernel.invokeFunction(\n",
              "            'suggestCharts', [key], {});\n",
              "      } catch (error) {\n",
              "        console.error('Error during call to suggestCharts:', error);\n",
              "      }\n",
              "      quickchartButtonEl.classList.remove('colab-df-spinner');\n",
              "      quickchartButtonEl.classList.add('colab-df-quickchart-complete');\n",
              "    }\n",
              "    (() => {\n",
              "      let quickchartButtonEl =\n",
              "        document.querySelector('#df-0fa4173d-2bc2-4079-ba04-9feb73209b05 button');\n",
              "      quickchartButtonEl.style.display =\n",
              "        google.colab.kernel.accessAllowed ? 'block' : 'none';\n",
              "    })();\n",
              "  </script>\n",
              "</div>\n",
              "\n",
              "    </div>\n",
              "  </div>\n"
            ],
            "application/vnd.google.colaboratory.intrinsic+json": {
              "type": "dataframe",
              "variable_name": "data",
              "summary": "{\n  \"name\": \"data\",\n  \"rows\": 1000,\n  \"fields\": [\n    {\n      \"column\": \"feature1\",\n      \"properties\": {\n        \"dtype\": \"number\",\n        \"std\": 1.0000000000000004,\n        \"min\": -3.306943391755529,\n        \"max\": 3.2637760109867795,\n        \"num_unique_values\": 1000,\n        \"samples\": [\n          -0.6410097299397008,\n          -0.46723976161696973,\n          -0.6308993996499547\n        ],\n        \"semantic_type\": \"\",\n        \"description\": \"\"\n      }\n    },\n    {\n      \"column\": \"feature2\",\n      \"properties\": {\n        \"dtype\": \"number\",\n        \"std\": 0.9999999999999996,\n        \"min\": -3.797723494977496,\n        \"max\": 3.1174481500317395,\n        \"num_unique_values\": 1000,\n        \"samples\": [\n          0.40473440442732794,\n          1.5611076133778359,\n          -0.34911860809420664\n        ],\n        \"semantic_type\": \"\",\n        \"description\": \"\"\n      }\n    },\n    {\n      \"column\": \"feature3\",\n      \"properties\": {\n        \"dtype\": \"number\",\n        \"std\": 1.0000000000000002,\n        \"min\": -3.8326831807223396,\n        \"max\": 4.322208516222336,\n        \"num_unique_values\": 1000,\n        \"samples\": [\n          -0.7180358333450063,\n          0.9676595864817723,\n          -0.4458652418033137\n        ],\n        \"semantic_type\": \"\",\n        \"description\": \"\"\n      }\n    },\n    {\n      \"column\": \"noise\",\n      \"properties\": {\n        \"dtype\": \"number\",\n        \"std\": 0.4893091286941424,\n        \"min\": 0.0,\n        \"max\": 1.0,\n        \"num_unique_values\": 2,\n        \"samples\": [\n          0.0,\n          1.0\n        ],\n        \"semantic_type\": \"\",\n        \"description\": \"\"\n      }\n    }\n  ]\n}"
            }
          },
          "metadata": {},
          "execution_count": 49
        }
      ]
    },
    {
      "cell_type": "markdown",
      "source": [
        "### Обучение модели (опционально)\n",
        "Этап обучения может быть опущен, или вы можете использовать предобученную модель. Пример обучения модели включен для наглядности."
      ],
      "metadata": {
        "id": "e1fJBJLu6feZ"
      }
    },
    {
      "cell_type": "code",
      "source": [
        "# Обучение простой модели RandomForest\n",
        "X = data[['feature1', 'feature2']]\n",
        "y = (data['feature3'] > 0).astype(int)  # Временная цель\n",
        "model = RandomForestClassifier()\n",
        "model.fit(X, y)\n",
        "\n",
        "# Сохранение модели\n",
        "joblib.dump(model, 'model.joblib')"
      ],
      "metadata": {
        "colab": {
          "base_uri": "https://localhost:8080/"
        },
        "id": "AhKrG1xn6bkf",
        "outputId": "3937f62e-9f65-44b3-f0cb-4d3a27cb5c2b"
      },
      "execution_count": 50,
      "outputs": [
        {
          "output_type": "execute_result",
          "data": {
            "text/plain": [
              "['model.joblib']"
            ]
          },
          "metadata": {},
          "execution_count": 50
        }
      ]
    },
    {
      "cell_type": "markdown",
      "source": [
        "### Загрузка модели"
      ],
      "metadata": {
        "id": "TI9eN8_46r6v"
      }
    },
    {
      "cell_type": "code",
      "source": [
        "# Функция для загрузки модели\n",
        "def load_model():\n",
        "    return joblib.load('model.joblib')"
      ],
      "metadata": {
        "id": "aZetGlV06o53"
      },
      "execution_count": 51,
      "outputs": []
    },
    {
      "cell_type": "markdown",
      "source": [
        "### Определение Pandas UDF для предобработки и инференса модели\n",
        "UDF будет включать как предобработку данных, так и инференс модели."
      ],
      "metadata": {
        "id": "-TcHoWBq7YAK"
      }
    },
    {
      "cell_type": "code",
      "source": [
        "@pandas_udf('int')\n",
        "def preprocess_and_predict_udf(feature1: pd.Series, feature2: pd.Series, noise: pd.Series) -> pd.Series:\n",
        "    # Загрузка модели\n",
        "    model = load_model()\n",
        "\n",
        "    # Предобработка данных\n",
        "    X = pd.DataFrame({'feature1': feature1, 'feature2': feature2, 'noise': noise})\n",
        "\n",
        "    # Запуск инференса\n",
        "    predictions = model.predict(X[['feature1', 'feature2']])\n",
        "    return pd.Series(predictions)"
      ],
      "metadata": {
        "id": "jfBiZ_OL6vRR"
      },
      "execution_count": 52,
      "outputs": []
    },
    {
      "cell_type": "markdown",
      "source": [
        "### Создание Spark DataFrame\n",
        "Преобразование pandas DataFrame в Spark DataFrame."
      ],
      "metadata": {
        "id": "Etgzl3hX7gEy"
      }
    },
    {
      "cell_type": "code",
      "source": [
        "# Преобразование pandas DataFrame в Spark DataFrame\n",
        "spark_df = spark.createDataFrame(data)\n",
        "\n",
        "spark_df = spark_df.withColumn(\"ground_truth\", (col(\"feature3\") > 0).cast(\"int\"))"
      ],
      "metadata": {
        "id": "ufZEZKRV6zKC"
      },
      "execution_count": 53,
      "outputs": []
    },
    {
      "cell_type": "code",
      "source": [
        "spark_df.show()"
      ],
      "metadata": {
        "colab": {
          "base_uri": "https://localhost:8080/"
        },
        "id": "ezur3WbzHjdi",
        "outputId": "bc7a8137-8a0f-49df-eaa8-18a5f89631b4"
      },
      "execution_count": 54,
      "outputs": [
        {
          "output_type": "stream",
          "name": "stdout",
          "text": [
            "+--------------------+--------------------+--------------------+-----+------------+\n",
            "|            feature1|            feature2|            feature3|noise|ground_truth|\n",
            "+--------------------+--------------------+--------------------+-----+------------+\n",
            "| -1.3136834837162612| 0.11688845457066503| -0.3961883058960256|  1.0|           0|\n",
            "| -0.6016848089643879|  -1.049042072000781| -1.7749923034772972|  1.0|           0|\n",
            "| -1.0292768886001822|-0.09714204851222284| -2.0751355077379117|  0.0|           0|\n",
            "|  -1.219959409873019| -0.8335027626304303| -0.9070690721924288|  1.0|           0|\n",
            "|  0.8829430725419278|  0.8012726111587835|  1.5147900196280362|  0.0|           1|\n",
            "| -2.0046987746532148|-0.01395306655154981|  1.1969216968494516|  1.0|           1|\n",
            "|-0.39731578986254124|  0.8111434577801303|-0.01775789826526...|  0.0|           0|\n",
            "|  1.0699556852111884| 0.11306710254079792|  0.4759820031444082|  1.0|           1|\n",
            "| -0.7558235574095304|  0.6337715410445365| -2.5073597749519703|  0.0|           0|\n",
            "|  0.6779852217487706|  1.9958074144603615| -3.8326831807223396|  1.0|           0|\n",
            "| -0.5748666830922395| -0.5943560923446611| 0.23401900080359653|  0.0|           1|\n",
            "| -1.0879696012256004| 0.06982610934749657| -0.9010262510829932|  1.0|           0|\n",
            "| -0.7357682653199574| 0.15809477016884976| -0.7558900341271124|  1.0|           0|\n",
            "| -1.4058252102787314|  -0.683240028849435|  0.4968797868166858|  1.0|           1|\n",
            "|-0.48969049004497356|-0.04917130958780...| -0.9507457365109513|  0.0|           0|\n",
            "|  2.0709800360907504| -0.7240391744371578|   -2.54948285122155|  0.0|           0|\n",
            "|  1.2958029353791831| -0.9426015236585162| -1.0387816745438025|  1.0|           0|\n",
            "| 0.30506028068526486|  0.7266585367896433|  0.6892657541895084|  1.0|           1|\n",
            "|  0.9962502753443255|-0.36548466696032134|  1.3725412093309157|  1.0|           1|\n",
            "|  0.8138823185686376|  0.5070868877941251|  1.0290754085014389|  1.0|           1|\n",
            "+--------------------+--------------------+--------------------+-----+------------+\n",
            "only showing top 20 rows\n",
            "\n"
          ]
        }
      ]
    },
    {
      "cell_type": "markdown",
      "source": [
        "### Применение Pandas UDF для предобработки и инференса"
      ],
      "metadata": {
        "id": "lNwsla0t7p_b"
      }
    },
    {
      "cell_type": "code",
      "source": [
        "# Запуск предобработки и инференса с использованием pandas UDF\n",
        "result_df = spark_df.withColumn(\"prediction\", preprocess_and_predict_udf(col(\"feature1\"), col(\"feature2\"), col(\"noise\")))\n",
        "result_df.show()"
      ],
      "metadata": {
        "colab": {
          "base_uri": "https://localhost:8080/"
        },
        "id": "M4gTX-cL7l_W",
        "outputId": "98278184-cedb-44f6-ba2c-4da8940c5d7f"
      },
      "execution_count": 55,
      "outputs": [
        {
          "output_type": "stream",
          "name": "stdout",
          "text": [
            "+--------------------+--------------------+--------------------+-----+------------+----------+\n",
            "|            feature1|            feature2|            feature3|noise|ground_truth|prediction|\n",
            "+--------------------+--------------------+--------------------+-----+------------+----------+\n",
            "| -1.3136834837162612| 0.11688845457066503| -0.3961883058960256|  1.0|           0|         0|\n",
            "| -0.6016848089643879|  -1.049042072000781| -1.7749923034772972|  1.0|           0|         0|\n",
            "| -1.0292768886001822|-0.09714204851222284| -2.0751355077379117|  0.0|           0|         0|\n",
            "|  -1.219959409873019| -0.8335027626304303| -0.9070690721924288|  1.0|           0|         0|\n",
            "|  0.8829430725419278|  0.8012726111587835|  1.5147900196280362|  0.0|           1|         1|\n",
            "| -2.0046987746532148|-0.01395306655154981|  1.1969216968494516|  1.0|           1|         1|\n",
            "|-0.39731578986254124|  0.8111434577801303|-0.01775789826526...|  0.0|           0|         0|\n",
            "|  1.0699556852111884| 0.11306710254079792|  0.4759820031444082|  1.0|           1|         1|\n",
            "| -0.7558235574095304|  0.6337715410445365| -2.5073597749519703|  0.0|           0|         0|\n",
            "|  0.6779852217487706|  1.9958074144603615| -3.8326831807223396|  1.0|           0|         0|\n",
            "| -0.5748666830922395| -0.5943560923446611| 0.23401900080359653|  0.0|           1|         1|\n",
            "| -1.0879696012256004| 0.06982610934749657| -0.9010262510829932|  1.0|           0|         0|\n",
            "| -0.7357682653199574| 0.15809477016884976| -0.7558900341271124|  1.0|           0|         0|\n",
            "| -1.4058252102787314|  -0.683240028849435|  0.4968797868166858|  1.0|           1|         1|\n",
            "|-0.48969049004497356|-0.04917130958780...| -0.9507457365109513|  0.0|           0|         0|\n",
            "|  2.0709800360907504| -0.7240391744371578|   -2.54948285122155|  0.0|           0|         0|\n",
            "|  1.2958029353791831| -0.9426015236585162| -1.0387816745438025|  1.0|           0|         0|\n",
            "| 0.30506028068526486|  0.7266585367896433|  0.6892657541895084|  1.0|           1|         1|\n",
            "|  0.9962502753443255|-0.36548466696032134|  1.3725412093309157|  1.0|           1|         1|\n",
            "|  0.8138823185686376|  0.5070868877941251|  1.0290754085014389|  1.0|           1|         1|\n",
            "+--------------------+--------------------+--------------------+-----+------------+----------+\n",
            "only showing top 20 rows\n",
            "\n"
          ]
        }
      ]
    },
    {
      "cell_type": "code",
      "source": [
        "result_df.count()"
      ],
      "metadata": {
        "colab": {
          "base_uri": "https://localhost:8080/"
        },
        "id": "olIDuAzuCB_f",
        "outputId": "4eefd855-8418-4ab4-d685-892fc19a5e7c"
      },
      "execution_count": 56,
      "outputs": [
        {
          "output_type": "execute_result",
          "data": {
            "text/plain": [
              "1000"
            ]
          },
          "metadata": {},
          "execution_count": 56
        }
      ]
    },
    {
      "cell_type": "markdown",
      "source": [
        "### Мониторинг качества"
      ],
      "metadata": {
        "id": "2Lh9YCaZ7xFF"
      }
    },
    {
      "cell_type": "markdown",
      "source": [
        "Вычисление точности модели или других показателей для мониторинга качества предсказаний."
      ],
      "metadata": {
        "id": "bB609Uwj74rQ"
      }
    },
    {
      "cell_type": "code",
      "source": [
        "# Собираем результаты для оценки\n",
        "predictions = result_df.select(\"prediction\").toPandas()\n",
        "ground_truth = spark_df.select(\"ground_truth\").toPandas()\n",
        "\n",
        "# Вычисление точности\n",
        "accuracy = accuracy_score(ground_truth, predictions)\n",
        "print(\"Точность модели:\", accuracy)"
      ],
      "metadata": {
        "colab": {
          "base_uri": "https://localhost:8080/"
        },
        "id": "_Wv1nJlQ7soY",
        "outputId": "2fb5f0a7-fe7f-45c8-a465-916c2dd0cac3"
      },
      "execution_count": 57,
      "outputs": [
        {
          "output_type": "stream",
          "name": "stdout",
          "text": [
            "Точность модели: 1.0\n"
          ]
        }
      ]
    },
    {
      "cell_type": "markdown",
      "source": [
        "### Еще один способ работы с pandas udf - GroupMap"
      ],
      "metadata": {
        "id": "gQxf6sxg82Sv"
      }
    },
    {
      "cell_type": "markdown",
      "source": [
        "Если задача требует передачи всей таблицы целиком для обработки одной моделью, то обычно лучше использовать Broadcast Variable для загрузки модели, что позволяет применить её к каждому фрагменту данных, не передавая DataFrame или модель в UDF."
      ],
      "metadata": {
        "id": "bJ4iB1ME9IxU"
      }
    },
    {
      "cell_type": "markdown",
      "source": [
        "Модель можно загрузить и сделать доступной для всех узлов Spark-кластера с помощью функции SparkContext.broadcast. Это создаст единственный экземпляр модели, который будет использоваться всеми узлами."
      ],
      "metadata": {
        "id": "p2OM90Be9NbP"
      }
    },
    {
      "cell_type": "code",
      "source": [
        "broadcast_model = spark.sparkContext.broadcast(model)"
      ],
      "metadata": {
        "id": "IlUEPb6g73e4"
      },
      "execution_count": 58,
      "outputs": []
    },
    {
      "cell_type": "code",
      "source": [
        "schema = StructType([\n",
        "    StructField(\"prediction\", IntegerType()),\n",
        "    StructField(\"ground_truth\", IntegerType()),\n",
        "])"
      ],
      "metadata": {
        "id": "Ok33RueI-GLf"
      },
      "execution_count": 59,
      "outputs": []
    },
    {
      "cell_type": "code",
      "source": [
        "spark_df = spark_df.withColumn(\"group_column\", lit(1))"
      ],
      "metadata": {
        "id": "SyuOKZOcAN0L"
      },
      "execution_count": 60,
      "outputs": []
    },
    {
      "cell_type": "code",
      "source": [
        "@pandas_udf(schema, PandasUDFType.GROUPED_MAP)\n",
        "def group_predict_udf(pdf: pd.DataFrame) -> pd.DataFrame:\n",
        "    # Доступ к переданной модели\n",
        "    model = broadcast_model.value\n",
        "    X = pdf.copy()\n",
        "    X['prediction'] = model.predict(X[['feature1', 'feature2']])\n",
        "\n",
        "    return X[['prediction', 'ground_truth']]"
      ],
      "metadata": {
        "id": "X50YIb4A9Q8Q"
      },
      "execution_count": 61,
      "outputs": []
    },
    {
      "cell_type": "code",
      "source": [
        "result_df = spark_df.groupBy(\"group_column\").apply(group_predict_udf)\n",
        "result_df.show()"
      ],
      "metadata": {
        "colab": {
          "base_uri": "https://localhost:8080/"
        },
        "id": "wpzwpPTC-C3j",
        "outputId": "73e622cc-bfff-4e18-9e9d-ea8d4a8d5690"
      },
      "execution_count": 62,
      "outputs": [
        {
          "output_type": "stream",
          "name": "stderr",
          "text": [
            "/usr/local/lib/python3.10/dist-packages/pyspark/sql/pandas/group_ops.py:104: UserWarning: It is preferred to use 'applyInPandas' over this API. This API will be deprecated in the future releases. See SPARK-28264 for more details.\n",
            "  warnings.warn(\n"
          ]
        },
        {
          "output_type": "stream",
          "name": "stdout",
          "text": [
            "+----------+------------+\n",
            "|prediction|ground_truth|\n",
            "+----------+------------+\n",
            "|         0|           0|\n",
            "|         0|           0|\n",
            "|         0|           0|\n",
            "|         0|           0|\n",
            "|         1|           1|\n",
            "|         1|           1|\n",
            "|         0|           0|\n",
            "|         1|           1|\n",
            "|         0|           0|\n",
            "|         0|           0|\n",
            "|         1|           1|\n",
            "|         0|           0|\n",
            "|         0|           0|\n",
            "|         1|           1|\n",
            "|         0|           0|\n",
            "|         0|           0|\n",
            "|         0|           0|\n",
            "|         1|           1|\n",
            "|         1|           1|\n",
            "|         1|           1|\n",
            "+----------+------------+\n",
            "only showing top 20 rows\n",
            "\n"
          ]
        }
      ]
    },
    {
      "cell_type": "code",
      "source": [
        "result_df.count()"
      ],
      "metadata": {
        "colab": {
          "base_uri": "https://localhost:8080/"
        },
        "id": "qnmbqKJpBy-k",
        "outputId": "a46b78af-a85c-4d10-8b1e-c2a4eaa4c8f5"
      },
      "execution_count": 63,
      "outputs": [
        {
          "output_type": "execute_result",
          "data": {
            "text/plain": [
              "1000"
            ]
          },
          "metadata": {},
          "execution_count": 63
        }
      ]
    },
    {
      "cell_type": "code",
      "source": [
        "# Собираем результаты для оценки\n",
        "predictions = result_df.select(\"prediction\").toPandas()\n",
        "ground_truth = result_df.select(\"ground_truth\").toPandas()\n",
        "\n",
        "# Вычисление точности\n",
        "accuracy = accuracy_score(ground_truth, predictions)\n",
        "print(\"Точность модели:\", accuracy)"
      ],
      "metadata": {
        "colab": {
          "base_uri": "https://localhost:8080/"
        },
        "id": "SlID_Eca9UZ5",
        "outputId": "186a3452-c820-405b-a1de-23f54ac69c66"
      },
      "execution_count": 65,
      "outputs": [
        {
          "output_type": "stream",
          "name": "stdout",
          "text": [
            "Точность модели: 1.0\n"
          ]
        }
      ]
    },
    {
      "cell_type": "code",
      "source": [],
      "metadata": {
        "id": "oCdXoUhdCNX2"
      },
      "execution_count": null,
      "outputs": []
    }
  ]
}