{
  "nbformat": 4,
  "nbformat_minor": 0,
  "metadata": {
    "colab": {
      "provenance": []
    },
    "kernelspec": {
      "name": "python3",
      "display_name": "Python 3"
    },
    "language_info": {
      "name": "python"
    }
  },
  "cells": [
    {
      "cell_type": "markdown",
      "source": [
        "### Установка и настройка PySpark"
      ],
      "metadata": {
        "id": "dpQGUyqHwrcR"
      }
    },
    {
      "cell_type": "code",
      "source": [
        "# Установим PySpark, если он не установлен\n",
        "!pip install pyspark"
      ],
      "metadata": {
        "id": "TxGLwhPewtZe"
      },
      "execution_count": null,
      "outputs": []
    },
    {
      "cell_type": "markdown",
      "source": [
        "### Импорт необходимых библиотек"
      ],
      "metadata": {
        "id": "QR0keN3-xDYJ"
      }
    },
    {
      "cell_type": "code",
      "source": [
        "from pyspark.sql import SparkSession\n",
        "from pyspark.sql.functions import col, udf, lit\n",
        "from pyspark.sql.types import StringType, IntegerType"
      ],
      "metadata": {
        "id": "4NzoNKiUwvut"
      },
      "execution_count": 7,
      "outputs": []
    },
    {
      "cell_type": "markdown",
      "source": [
        "### Создание SparkSession"
      ],
      "metadata": {
        "id": "0pt-BmjyxGbL"
      }
    },
    {
      "cell_type": "code",
      "source": [
        "spark = SparkSession.builder \\\n",
        "    .appName(\"PySpark Tutorial\") \\\n",
        "    .getOrCreate()"
      ],
      "metadata": {
        "id": "QwWXT6hxw4KR"
      },
      "execution_count": 3,
      "outputs": []
    },
    {
      "cell_type": "markdown",
      "source": [
        "### Пример данных и создание DataFrame"
      ],
      "metadata": {
        "id": "pXNZJMOhw-f6"
      }
    },
    {
      "cell_type": "code",
      "source": [
        "data = [\n",
        "    (\"John\", \"Sales\", 5000),\n",
        "    (\"Mike\", \"Sales\", 4600),\n",
        "    (\"Sara\", \"HR\", 4000),\n",
        "    (\"Jen\", \"HR\", 4500),\n",
        "    (\"Jeff\", \"Engineering\", 7800),\n",
        "    (\"Tom\", \"Engineering\", 7300)\n",
        "]\n",
        "columns = [\"Name\", \"Department\", \"Salary\"]\n",
        "\n",
        "df = spark.createDataFrame(data, schema=columns)\n",
        "df.show()"
      ],
      "metadata": {
        "colab": {
          "base_uri": "https://localhost:8080/"
        },
        "id": "vCPDIAjIw4M1",
        "outputId": "821eec34-3fa6-4608-b806-754fdc7a7792"
      },
      "execution_count": 4,
      "outputs": [
        {
          "output_type": "stream",
          "name": "stdout",
          "text": [
            "+----+-----------+------+\n",
            "|Name| Department|Salary|\n",
            "+----+-----------+------+\n",
            "|John|      Sales|  5000|\n",
            "|Mike|      Sales|  4600|\n",
            "|Sara|         HR|  4000|\n",
            "| Jen|         HR|  4500|\n",
            "|Jeff|Engineering|  7800|\n",
            "| Tom|Engineering|  7300|\n",
            "+----+-----------+------+\n",
            "\n"
          ]
        }
      ]
    },
    {
      "cell_type": "markdown",
      "source": [
        "### Выбор и переименование колонок"
      ],
      "metadata": {
        "id": "JOiqZYxFxXe1"
      }
    },
    {
      "cell_type": "code",
      "source": [
        "# Выбор нескольких колонок\n",
        "df.select(\"Name\", \"Salary\").show()\n",
        "\n",
        "# Переименование колонки\n",
        "df_renamed = df.withColumnRenamed(\"Department\", \"Dept\")\n",
        "df_renamed.show()"
      ],
      "metadata": {
        "colab": {
          "base_uri": "https://localhost:8080/"
        },
        "id": "mf45rX04w4Pd",
        "outputId": "4c57234e-5eb7-46ff-ef55-322f27709ee0"
      },
      "execution_count": 5,
      "outputs": [
        {
          "output_type": "stream",
          "name": "stdout",
          "text": [
            "+----+------+\n",
            "|Name|Salary|\n",
            "+----+------+\n",
            "|John|  5000|\n",
            "|Mike|  4600|\n",
            "|Sara|  4000|\n",
            "| Jen|  4500|\n",
            "|Jeff|  7800|\n",
            "| Tom|  7300|\n",
            "+----+------+\n",
            "\n",
            "+----+-----------+------+\n",
            "|Name|       Dept|Salary|\n",
            "+----+-----------+------+\n",
            "|John|      Sales|  5000|\n",
            "|Mike|      Sales|  4600|\n",
            "|Sara|         HR|  4000|\n",
            "| Jen|         HR|  4500|\n",
            "|Jeff|Engineering|  7800|\n",
            "| Tom|Engineering|  7300|\n",
            "+----+-----------+------+\n",
            "\n"
          ]
        }
      ]
    },
    {
      "cell_type": "markdown",
      "source": [
        "### Добавление и удаление колонок"
      ],
      "metadata": {
        "id": "QPcrhSzOxeSx"
      }
    },
    {
      "cell_type": "code",
      "source": [
        "# Добавление новой колонки с фиксированным значением\n",
        "df_with_constant = df.withColumn(\"Country\", lit(\"USA\"))\n",
        "df_with_constant.show()\n",
        "\n",
        "# Удаление колонки\n",
        "df_dropped = df.drop(\"Department\")\n",
        "df_dropped.show()"
      ],
      "metadata": {
        "colab": {
          "base_uri": "https://localhost:8080/"
        },
        "id": "NCGZH_fQw4SH",
        "outputId": "1d788708-2c41-47f0-d1ac-06de83c3af59"
      },
      "execution_count": 8,
      "outputs": [
        {
          "output_type": "stream",
          "name": "stdout",
          "text": [
            "+----+-----------+------+-------+\n",
            "|Name| Department|Salary|Country|\n",
            "+----+-----------+------+-------+\n",
            "|John|      Sales|  5000|    USA|\n",
            "|Mike|      Sales|  4600|    USA|\n",
            "|Sara|         HR|  4000|    USA|\n",
            "| Jen|         HR|  4500|    USA|\n",
            "|Jeff|Engineering|  7800|    USA|\n",
            "| Tom|Engineering|  7300|    USA|\n",
            "+----+-----------+------+-------+\n",
            "\n",
            "+----+------+\n",
            "|Name|Salary|\n",
            "+----+------+\n",
            "|John|  5000|\n",
            "|Mike|  4600|\n",
            "|Sara|  4000|\n",
            "| Jen|  4500|\n",
            "|Jeff|  7800|\n",
            "| Tom|  7300|\n",
            "+----+------+\n",
            "\n"
          ]
        }
      ]
    },
    {
      "cell_type": "markdown",
      "source": [
        "### Фильтрация данных"
      ],
      "metadata": {
        "id": "ZNXmKlkvxohM"
      }
    },
    {
      "cell_type": "code",
      "source": [
        "# Фильтрация строк с условием\n",
        "filtered_df = df.filter(df.Salary > 5000)\n",
        "filtered_df.show()\n",
        "\n",
        "# Фильтрация с использованием SQL выражения\n",
        "df.filter(\"Salary > 5000\").show()"
      ],
      "metadata": {
        "colab": {
          "base_uri": "https://localhost:8080/"
        },
        "id": "PjL5Flpjxl5x",
        "outputId": "b9ceb44f-d486-4ad6-df72-39f56da731f2"
      },
      "execution_count": 9,
      "outputs": [
        {
          "output_type": "stream",
          "name": "stdout",
          "text": [
            "+----+-----------+------+\n",
            "|Name| Department|Salary|\n",
            "+----+-----------+------+\n",
            "|Jeff|Engineering|  7800|\n",
            "| Tom|Engineering|  7300|\n",
            "+----+-----------+------+\n",
            "\n",
            "+----+-----------+------+\n",
            "|Name| Department|Salary|\n",
            "+----+-----------+------+\n",
            "|Jeff|Engineering|  7800|\n",
            "| Tom|Engineering|  7300|\n",
            "+----+-----------+------+\n",
            "\n"
          ]
        }
      ]
    },
    {
      "cell_type": "markdown",
      "source": [
        "### Сортировка данных"
      ],
      "metadata": {
        "id": "rymCEfBjxz0G"
      }
    },
    {
      "cell_type": "code",
      "source": [
        "# Сортировка по возрастанию\n",
        "df_sorted_asc = df.sort(\"Salary\")\n",
        "df_sorted_asc.show()\n",
        "\n",
        "# Сортировка по убыванию\n",
        "df_sorted_desc = df.sort(df.Salary.desc())\n",
        "df_sorted_desc.show()"
      ],
      "metadata": {
        "colab": {
          "base_uri": "https://localhost:8080/"
        },
        "id": "mcRgKgTxw4W_",
        "outputId": "b14c40db-c384-46b5-e05a-758db250d83e"
      },
      "execution_count": 10,
      "outputs": [
        {
          "output_type": "stream",
          "name": "stdout",
          "text": [
            "+----+-----------+------+\n",
            "|Name| Department|Salary|\n",
            "+----+-----------+------+\n",
            "|Sara|         HR|  4000|\n",
            "| Jen|         HR|  4500|\n",
            "|Mike|      Sales|  4600|\n",
            "|John|      Sales|  5000|\n",
            "| Tom|Engineering|  7300|\n",
            "|Jeff|Engineering|  7800|\n",
            "+----+-----------+------+\n",
            "\n",
            "+----+-----------+------+\n",
            "|Name| Department|Salary|\n",
            "+----+-----------+------+\n",
            "|Jeff|Engineering|  7800|\n",
            "| Tom|Engineering|  7300|\n",
            "|John|      Sales|  5000|\n",
            "|Mike|      Sales|  4600|\n",
            "| Jen|         HR|  4500|\n",
            "|Sara|         HR|  4000|\n",
            "+----+-----------+------+\n",
            "\n"
          ]
        }
      ]
    },
    {
      "cell_type": "markdown",
      "source": [
        "### Агрегация данных"
      ],
      "metadata": {
        "id": "l9ZxhpJtx5rH"
      }
    },
    {
      "cell_type": "code",
      "source": [
        "# Посчитаем максимальную зарплату по каждому отделу\n",
        "df_max_salary = df.groupBy(\"Department\").max(\"Salary\")\n",
        "df_max_salary.show()\n",
        "\n",
        "# Подсчёт количества сотрудников в каждом отделе\n",
        "df_count = df.groupBy(\"Department\").count()\n",
        "df_count.show()"
      ],
      "metadata": {
        "colab": {
          "base_uri": "https://localhost:8080/"
        },
        "id": "IWyUmEZAx2qf",
        "outputId": "eb771575-5b3d-47c4-f0ca-9e485a5aa277"
      },
      "execution_count": 11,
      "outputs": [
        {
          "output_type": "stream",
          "name": "stdout",
          "text": [
            "+-----------+-----------+\n",
            "| Department|max(Salary)|\n",
            "+-----------+-----------+\n",
            "|      Sales|       5000|\n",
            "|         HR|       4500|\n",
            "|Engineering|       7800|\n",
            "+-----------+-----------+\n",
            "\n",
            "+-----------+-----+\n",
            "| Department|count|\n",
            "+-----------+-----+\n",
            "|      Sales|    2|\n",
            "|         HR|    2|\n",
            "|Engineering|    2|\n",
            "+-----------+-----+\n",
            "\n"
          ]
        }
      ]
    },
    {
      "cell_type": "markdown",
      "source": [
        "### Работа с NULL значениями"
      ],
      "metadata": {
        "id": "ZVj96X_IyAMB"
      }
    },
    {
      "cell_type": "code",
      "source": [
        "# Заполнение NULL значений в колонке 'Salary' значением 0\n",
        "df_filled = df.fillna({'Salary': 0})\n",
        "df_filled.show()\n",
        "\n",
        "# Удаление строк с NULL значениями в любых колонках\n",
        "df_no_nulls = df.dropna()\n",
        "df_no_nulls.show()"
      ],
      "metadata": {
        "colab": {
          "base_uri": "https://localhost:8080/"
        },
        "id": "iRQ3ldj1x9Kg",
        "outputId": "022a441f-c0c9-47d9-f79d-5bd44bb0cc9c"
      },
      "execution_count": 12,
      "outputs": [
        {
          "output_type": "stream",
          "name": "stdout",
          "text": [
            "+----+-----------+------+\n",
            "|Name| Department|Salary|\n",
            "+----+-----------+------+\n",
            "|John|      Sales|  5000|\n",
            "|Mike|      Sales|  4600|\n",
            "|Sara|         HR|  4000|\n",
            "| Jen|         HR|  4500|\n",
            "|Jeff|Engineering|  7800|\n",
            "| Tom|Engineering|  7300|\n",
            "+----+-----------+------+\n",
            "\n",
            "+----+-----------+------+\n",
            "|Name| Department|Salary|\n",
            "+----+-----------+------+\n",
            "|John|      Sales|  5000|\n",
            "|Mike|      Sales|  4600|\n",
            "|Sara|         HR|  4000|\n",
            "| Jen|         HR|  4500|\n",
            "|Jeff|Engineering|  7800|\n",
            "| Tom|Engineering|  7300|\n",
            "+----+-----------+------+\n",
            "\n"
          ]
        }
      ]
    },
    {
      "cell_type": "markdown",
      "source": [
        "### Объединение DataFrame"
      ],
      "metadata": {
        "id": "VcB5tvZeyFQf"
      }
    },
    {
      "cell_type": "code",
      "source": [
        "# Создание второго DataFrame для примера\n",
        "data2 = [(\"Jake\", \"Finance\", 6100), (\"Linda\", \"Finance\", 6400)]\n",
        "columns2 = [\"Name\", \"Department\", \"Salary\"]\n",
        "\n",
        "df2 = spark.createDataFrame(data2, schema=columns2)\n",
        "\n",
        "# Объединение двух DataFrame\n",
        "df_union = df.union(df2)\n",
        "df_union.show()"
      ],
      "metadata": {
        "colab": {
          "base_uri": "https://localhost:8080/"
        },
        "id": "81x70HFEyCoX",
        "outputId": "c0792fef-a2bc-4c24-d93e-27eb6783883f"
      },
      "execution_count": 13,
      "outputs": [
        {
          "output_type": "stream",
          "name": "stdout",
          "text": [
            "+-----+-----------+------+\n",
            "| Name| Department|Salary|\n",
            "+-----+-----------+------+\n",
            "| John|      Sales|  5000|\n",
            "| Mike|      Sales|  4600|\n",
            "| Sara|         HR|  4000|\n",
            "|  Jen|         HR|  4500|\n",
            "| Jeff|Engineering|  7800|\n",
            "|  Tom|Engineering|  7300|\n",
            "| Jake|    Finance|  6100|\n",
            "|Linda|    Finance|  6400|\n",
            "+-----+-----------+------+\n",
            "\n"
          ]
        }
      ]
    },
    {
      "cell_type": "markdown",
      "source": [
        "### Соединение (Join) DataFrame"
      ],
      "metadata": {
        "id": "2vBbe3iiyJjw"
      }
    },
    {
      "cell_type": "code",
      "source": [
        "# Создание второго DataFrame для примера соединения\n",
        "data3 = [(\"John\", \"New York\"), (\"Mike\", \"Los Angeles\"), (\"Sara\", \"Chicago\")]\n",
        "columns3 = [\"Name\", \"City\"]\n",
        "\n",
        "df3 = spark.createDataFrame(data3, schema=columns3)\n",
        "\n",
        "# Соединение по колонке 'Name'\n",
        "df_joined = df.join(df3, on=\"Name\", how=\"inner\")\n",
        "df_joined.show()"
      ],
      "metadata": {
        "colab": {
          "base_uri": "https://localhost:8080/"
        },
        "id": "KkEehgBByHg8",
        "outputId": "32281197-18c8-4a99-a8a4-ecf09d425188"
      },
      "execution_count": 14,
      "outputs": [
        {
          "output_type": "stream",
          "name": "stdout",
          "text": [
            "+----+----------+------+-----------+\n",
            "|Name|Department|Salary|       City|\n",
            "+----+----------+------+-----------+\n",
            "|John|     Sales|  5000|   New York|\n",
            "|Mike|     Sales|  4600|Los Angeles|\n",
            "|Sara|        HR|  4000|    Chicago|\n",
            "+----+----------+------+-----------+\n",
            "\n"
          ]
        }
      ]
    },
    {
      "cell_type": "markdown",
      "source": [
        "### Группировка"
      ],
      "metadata": {
        "id": "hNULa23Byg2Y"
      }
    },
    {
      "cell_type": "code",
      "source": [
        "# Посчитаем среднюю зарплату по каждому отделу\n",
        "df_grouped = df.groupBy(\"Department\").avg(\"Salary\")\n",
        "df_grouped.show()"
      ],
      "metadata": {
        "colab": {
          "base_uri": "https://localhost:8080/"
        },
        "id": "w3qNoptPyctS",
        "outputId": "04595053-8802-4ddd-a89f-e6e99ed2f734"
      },
      "execution_count": 17,
      "outputs": [
        {
          "output_type": "stream",
          "name": "stdout",
          "text": [
            "+-----------+-----------+\n",
            "| Department|avg(Salary)|\n",
            "+-----------+-----------+\n",
            "|      Sales|     4800.0|\n",
            "|         HR|     4250.0|\n",
            "|Engineering|     7550.0|\n",
            "+-----------+-----------+\n",
            "\n"
          ]
        }
      ]
    },
    {
      "cell_type": "markdown",
      "source": [
        "### Группировка с несколькими агрегатами"
      ],
      "metadata": {
        "id": "Ci555YdQyPqY"
      }
    },
    {
      "cell_type": "code",
      "source": [
        "# Одновременное применение нескольких агрегаций\n",
        "df_agg = df.groupBy(\"Department\").agg(\n",
        "    {'Salary': 'avg', 'Salary': 'max', 'Salary': 'min'}\n",
        ")\n",
        "df_agg.show()"
      ],
      "metadata": {
        "colab": {
          "base_uri": "https://localhost:8080/"
        },
        "id": "JJaVjOxAyM6b",
        "outputId": "2f9d893a-e1f4-41ad-9a26-ff25299e5aee"
      },
      "execution_count": 15,
      "outputs": [
        {
          "output_type": "stream",
          "name": "stdout",
          "text": [
            "+-----------+-----------+\n",
            "| Department|min(Salary)|\n",
            "+-----------+-----------+\n",
            "|      Sales|       4600|\n",
            "|         HR|       4000|\n",
            "|Engineering|       7300|\n",
            "+-----------+-----------+\n",
            "\n"
          ]
        }
      ]
    },
    {
      "cell_type": "markdown",
      "source": [
        "### Использование SQL запросов"
      ],
      "metadata": {
        "id": "Hz_J3LXGyUJF"
      }
    },
    {
      "cell_type": "code",
      "source": [
        "df.createOrReplaceTempView(\"employees\")\n",
        "\n",
        "# Выполнение SQL запроса\n",
        "df_sql = spark.sql(\"SELECT Department, AVG(Salary) as Avg_Salary FROM employees GROUP BY Department\")\n",
        "df_sql.show()"
      ],
      "metadata": {
        "colab": {
          "base_uri": "https://localhost:8080/"
        },
        "id": "SxjERCTcySJG",
        "outputId": "bd53affa-d99a-40d7-9f16-d5eb0d26d7da"
      },
      "execution_count": 16,
      "outputs": [
        {
          "output_type": "stream",
          "name": "stdout",
          "text": [
            "+-----------+----------+\n",
            "| Department|Avg_Salary|\n",
            "+-----------+----------+\n",
            "|      Sales|    4800.0|\n",
            "|         HR|    4250.0|\n",
            "|Engineering|    7550.0|\n",
            "+-----------+----------+\n",
            "\n"
          ]
        }
      ]
    },
    {
      "cell_type": "markdown",
      "source": [
        "### Создание и использование UDF"
      ],
      "metadata": {
        "id": "vT1ZcwYsynu_"
      }
    },
    {
      "cell_type": "code",
      "source": [
        "# Создадим функцию, которая будет добавлять к зарплате бонус в зависимости от отдела\n",
        "def calculate_bonus(department):\n",
        "    if department == \"Sales\":\n",
        "        return 500\n",
        "    elif department == \"HR\":\n",
        "        return 300\n",
        "    elif department == \"Engineering\":\n",
        "        return 700\n",
        "    return 0"
      ],
      "metadata": {
        "id": "4MgPW70myWWW"
      },
      "execution_count": 18,
      "outputs": []
    },
    {
      "cell_type": "code",
      "source": [
        "# Регистрируем UDF в PySpark\n",
        "bonus_udf = udf(calculate_bonus, IntegerType())"
      ],
      "metadata": {
        "id": "4iPQo59PyqAh"
      },
      "execution_count": 19,
      "outputs": []
    },
    {
      "cell_type": "code",
      "source": [
        "# Применяем UDF к колонке 'Department' и добавляем новую колонку 'Bonus'\n",
        "df_with_bonus = df.withColumn(\"Bonus\", bonus_udf(col(\"Department\")))\n",
        "df_with_bonus.show()"
      ],
      "metadata": {
        "colab": {
          "base_uri": "https://localhost:8080/"
        },
        "id": "-JIo8dedysUZ",
        "outputId": "0fc3ff35-3592-4092-9554-7d51a5d6ee2a"
      },
      "execution_count": 20,
      "outputs": [
        {
          "output_type": "stream",
          "name": "stdout",
          "text": [
            "+----+-----------+------+-----+\n",
            "|Name| Department|Salary|Bonus|\n",
            "+----+-----------+------+-----+\n",
            "|John|      Sales|  5000|  500|\n",
            "|Mike|      Sales|  4600|  500|\n",
            "|Sara|         HR|  4000|  300|\n",
            "| Jen|         HR|  4500|  300|\n",
            "|Jeff|Engineering|  7800|  700|\n",
            "| Tom|Engineering|  7300|  700|\n",
            "+----+-----------+------+-----+\n",
            "\n"
          ]
        }
      ]
    }
  ]
}